{
 "cells": [
  {
   "cell_type": "code",
   "execution_count": 1,
   "metadata": {},
   "outputs": [
    {
     "name": "stdout",
     "output_type": "stream",
     "text": [
      "{'summarization': '知情人透露章子怡怀孕后，父母很高兴。章母已开始悉心照料。据悉，预产期大概是12月底', 'article': '四海网讯，近日，有媒体报道称：章子怡真怀孕了!报道还援引知情人士消息称，“章子怡怀孕大概四五个月，预产期是年底前后，现在已经不接工作了。”这到底是怎么回事?消息是真是假?针对此消息，23日晚8时30分，华西都市报记者迅速联系上了与章子怡家里关系极好的知情人士，这位人士向华西都市报记者证实说：“子怡这次确实怀孕了。她已经36岁了，也该怀孕了。章子怡怀上汪峰的孩子后，子怡的父母亲十分高兴。子怡的母亲，已开始悉心照料女儿了。子怡的预产期大概是今年12月底。”当晚9时，华西都市报记者为了求证章子怡怀孕消息，又电话联系章子怡的亲哥哥章子男，但电话通了，一直没有人<Paragraph>接听。有关章子怡怀孕的新闻自从2013年9月份章子怡和汪峰恋情以来，就被传N遍了!不过，时间跨入2015年，事情却发生着微妙的变化。2015年3月21日，章子怡担任制片人的电影《从天儿降》开机，在开机发布会上几张合影，让网友又燃起了好奇心：“章子怡真的怀孕了吗?”但后据证实，章子怡的“大肚照”只是影片宣传的噱头。过了四个月的7月22日，《太平轮》新一轮宣传，章子怡又被发现状态不佳，不时深呼吸，不自觉想捂住肚子，又觉得不妥。然后在8月的一天，章子怡和朋友吃饭，在酒店门口被风行工作室拍到了，疑似有孕在身!今年7月11日，汪峰本来在上海要举行演唱会，后来因为台风“灿鸿”取消了。而消息人士称，汪峰原来打算在演唱会上当着章子怡的面宣布重大消息，而且章子怡已经赴上海准备参加演唱会了，怎知遇到台风，只好延期，相信9月26日的演唱会应该还会有惊喜大白天下吧。'}\n"
     ]
    }
   ],
   "source": [
    "import json\n",
    "\n",
    "json_arr = []\n",
    "\n",
    "with open(\"datasets/nlpcc2017-text-summarization/train_with_summ.txt\", \"r\", encoding=\"utf-8\") as f:\n",
    "    for line in f:\n",
    "        json_arr.append(json.loads(line))\n",
    "        \n",
    "print(json_arr[0])"
   ]
  },
  {
   "cell_type": "code",
   "execution_count": 2,
   "metadata": {},
   "outputs": [],
   "source": [
    "import csv\n",
    "\n",
    "# Open a file for writing\n",
    "nlpcc_train_with_sum_csv = open(\"datasets/nlpcc2017-text-summarization/train_with_sum.csv\", \"w\", encoding=\"utf-8\")\n",
    "\n",
    "# Create the csv writer object\n",
    "csv_writer = csv.writer(nlpcc_train_with_sum_csv, delimiter=\"\\t\", lineterminator=\"\\n\")\n",
    "\n",
    "# id\n",
    "count = 0\n",
    "\n",
    "for json_row in json_arr:\n",
    "    csv_writer.writerow([count, json_row[\"summarization\"], json_row[\"article\"]])\n",
    "    count = count + 1\n",
    "    \n",
    "nlpcc_train_with_sum_csv.close()   \n",
    "# json_arr[0][\"article\"]"
   ]
  },
  {
   "cell_type": "code",
   "execution_count": 3,
   "metadata": {},
   "outputs": [
    {
     "data": {
      "text/html": [
       "<div>\n",
       "<style scoped>\n",
       "    .dataframe tbody tr th:only-of-type {\n",
       "        vertical-align: middle;\n",
       "    }\n",
       "\n",
       "    .dataframe tbody tr th {\n",
       "        vertical-align: top;\n",
       "    }\n",
       "\n",
       "    .dataframe thead th {\n",
       "        text-align: right;\n",
       "    }\n",
       "</style>\n",
       "<table border=\"1\" class=\"dataframe\">\n",
       "  <thead>\n",
       "    <tr style=\"text-align: right;\">\n",
       "      <th></th>\n",
       "      <th>0</th>\n",
       "      <th>1</th>\n",
       "      <th>2</th>\n",
       "    </tr>\n",
       "  </thead>\n",
       "  <tbody>\n",
       "    <tr>\n",
       "      <th>0</th>\n",
       "      <td>0</td>\n",
       "      <td>知情人透露章子怡怀孕后，父母很高兴。章母已开始悉心照料。据悉，预产期大概是12月底</td>\n",
       "      <td>四海网讯，近日，有媒体报道称：章子怡真怀孕了!报道还援引知情人士消息称，“章子怡怀孕大概四五...</td>\n",
       "    </tr>\n",
       "    <tr>\n",
       "      <th>1</th>\n",
       "      <td>1</td>\n",
       "      <td>青海首次野外发现濒危大火烈鸟 尚不清楚具体来源</td>\n",
       "      <td>中新社西宁11月22日电&lt;Paragraph&gt;(赵凛松)青海省林业厅野生动植物和自然保护区管...</td>\n",
       "    </tr>\n",
       "    <tr>\n",
       "      <th>2</th>\n",
       "      <td>2</td>\n",
       "      <td>东莞少女妈妈不愿带孩子 自杀被救后携女出走（图）</td>\n",
       "      <td>内容提要：因为早早结婚，今年20岁的杨丽（化名）已经是一个三岁小孩的妈妈。今年10月31日，...</td>\n",
       "    </tr>\n",
       "    <tr>\n",
       "      <th>3</th>\n",
       "      <td>3</td>\n",
       "      <td>滁州市发布雷电黄色预警：目前我市西部有较强对流云团向东南方向移动，预计6小时内我市部分地区将...</td>\n",
       "      <td>发布日期：2015-07-12&lt;Paragraph&gt;15:20:00滁州市气象台2015年0...</td>\n",
       "    </tr>\n",
       "    <tr>\n",
       "      <th>4</th>\n",
       "      <td>4</td>\n",
       "      <td>延安豆芽现已疯涨至每斤四元 查处严格后商贩不卖豆芽</td>\n",
       "      <td>本报讯(记者&lt;Paragraph&gt;陈雪&lt;Paragraph&gt;实习生&lt;Paragraph&gt;王健...</td>\n",
       "    </tr>\n",
       "  </tbody>\n",
       "</table>\n",
       "</div>"
      ],
      "text/plain": [
       "   0                                                  1  \\\n",
       "0  0          知情人透露章子怡怀孕后，父母很高兴。章母已开始悉心照料。据悉，预产期大概是12月底   \n",
       "1  1                            青海首次野外发现濒危大火烈鸟 尚不清楚具体来源   \n",
       "2  2                           东莞少女妈妈不愿带孩子 自杀被救后携女出走（图）   \n",
       "3  3  滁州市发布雷电黄色预警：目前我市西部有较强对流云团向东南方向移动，预计6小时内我市部分地区将...   \n",
       "4  4                          延安豆芽现已疯涨至每斤四元 查处严格后商贩不卖豆芽   \n",
       "\n",
       "                                                   2  \n",
       "0  四海网讯，近日，有媒体报道称：章子怡真怀孕了!报道还援引知情人士消息称，“章子怡怀孕大概四五...  \n",
       "1  中新社西宁11月22日电<Paragraph>(赵凛松)青海省林业厅野生动植物和自然保护区管...  \n",
       "2  内容提要：因为早早结婚，今年20岁的杨丽（化名）已经是一个三岁小孩的妈妈。今年10月31日，...  \n",
       "3  发布日期：2015-07-12<Paragraph>15:20:00滁州市气象台2015年0...  \n",
       "4  本报讯(记者<Paragraph>陈雪<Paragraph>实习生<Paragraph>王健...  "
      ]
     },
     "execution_count": 3,
     "metadata": {},
     "output_type": "execute_result"
    }
   ],
   "source": [
    "import pandas as pd\n",
    "\n",
    "nlpcc_csv = pd.read_csv(\"datasets/nlpcc2017-text-summarization/train_with_sum.csv\", encoding=\"utf-8\", sep='\\t', header=None)\n",
    "\n",
    "nlpcc_csv.head()"
   ]
  }
 ],
 "metadata": {
  "kernelspec": {
   "display_name": "Python 3",
   "language": "python",
   "name": "python3"
  },
  "language_info": {
   "codemirror_mode": {
    "name": "ipython",
    "version": 3
   },
   "file_extension": ".py",
   "mimetype": "text/x-python",
   "name": "python",
   "nbconvert_exporter": "python",
   "pygments_lexer": "ipython3",
   "version": "3.7.3"
  }
 },
 "nbformat": 4,
 "nbformat_minor": 2
}
